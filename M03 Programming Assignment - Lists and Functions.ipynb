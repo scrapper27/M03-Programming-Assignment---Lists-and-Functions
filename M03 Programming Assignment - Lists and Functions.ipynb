{
 "cells": [
  {
   "cell_type": "code",
   "execution_count": 25,
   "id": "f6af48e3",
   "metadata": {},
   "outputs": [],
   "source": [
    "# 7.4\n",
    "things = [\"mozzarella\", \"cinderella\", \"salmonella\"]"
   ]
  },
  {
   "cell_type": "code",
   "execution_count": 26,
   "id": "d1d3e05c",
   "metadata": {},
   "outputs": [
    {
     "name": "stdout",
     "output_type": "stream",
     "text": [
      "['mozzarella', 'Cinderella', 'salmonella']\n"
     ]
    }
   ],
   "source": [
    "# 7.5\n",
    "things[1] = things[1].capitalize()\n",
    "print(things)"
   ]
  },
  {
   "cell_type": "code",
   "execution_count": 27,
   "id": "00d5bfc0",
   "metadata": {},
   "outputs": [
    {
     "name": "stdout",
     "output_type": "stream",
     "text": [
      "['MOZZARELLA', 'Cinderella', 'salmonella']\n"
     ]
    }
   ],
   "source": [
    "# 7.6\n",
    "things[0] = things[0].upper()\n",
    "print(things)"
   ]
  },
  {
   "cell_type": "code",
   "execution_count": 28,
   "id": "e16eba7f",
   "metadata": {},
   "outputs": [
    {
     "name": "stdout",
     "output_type": "stream",
     "text": [
      "['MOZZARELLA', 'Cinderella']\n"
     ]
    }
   ],
   "source": [
    "# 7.7\n",
    "things.remove(\"salmonella\")\n",
    "print(things)"
   ]
  },
  {
   "cell_type": "code",
   "execution_count": 29,
   "id": "abaec92f",
   "metadata": {},
   "outputs": [
    {
     "name": "stdout",
     "output_type": "stream",
     "text": [
      "['Harry', 'Ron', 'Hermione']\n"
     ]
    }
   ],
   "source": [
    "# 9.1\n",
    "def good():\n",
    "    return ['Harry', 'Ron', 'Hermione']\n",
    "\n",
    "result_good = good()\n",
    "print(result_good)"
   ]
  },
  {
   "cell_type": "code",
   "execution_count": 35,
   "id": "99b19b55",
   "metadata": {},
   "outputs": [
    {
     "name": "stdout",
     "output_type": "stream",
     "text": [
      "5\n"
     ]
    }
   ],
   "source": [
    "# 9.2\n",
    "def get_odds():\n",
    "    for number in range(1, 10, 2):\n",
    "        yield number\n",
    "\n",
    "gen = get_odds()\n",
    "for _ in range(2): \n",
    "    next(gen)\n",
    "third_value = next(gen)\n",
    "print(third_value)\n"
   ]
  },
  {
   "cell_type": "code",
   "execution_count": null,
   "id": "93c28447",
   "metadata": {},
   "outputs": [],
   "source": []
  }
 ],
 "metadata": {
  "kernelspec": {
   "display_name": "Python 3 (ipykernel)",
   "language": "python",
   "name": "python3"
  },
  "language_info": {
   "codemirror_mode": {
    "name": "ipython",
    "version": 3
   },
   "file_extension": ".py",
   "mimetype": "text/x-python",
   "name": "python",
   "nbconvert_exporter": "python",
   "pygments_lexer": "ipython3",
   "version": "3.11.5"
  }
 },
 "nbformat": 4,
 "nbformat_minor": 5
}
